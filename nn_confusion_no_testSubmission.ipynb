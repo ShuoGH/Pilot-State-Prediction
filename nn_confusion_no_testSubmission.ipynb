{
  "cells": [
    {
      "metadata": {
        "_uuid": "8a755f32f75eb30f021cb6db0efaf67a13f7e211"
      },
      "cell_type": "markdown",
      "source": "## Reducing Aviation Fatalities: A Neural Network approach using Pytorch"
    },
    {
      "metadata": {
        "_uuid": "92b73da614d3258d21bdc3eaf9cdb08b7a2e4277"
      },
      "cell_type": "markdown",
      "source": "This kernel aims to create a neural network using pytorch. I am new to pytorch and I am still learning the nitty gritties of pytorch so if you find any mistakes or any imporvements that can be done please let me know in the comments section and I will be more than happy to address it."
    },
    {
      "metadata": {
        "_uuid": "bf74ee53239452980627434ef2b3f7e0fe629607"
      },
      "cell_type": "markdown",
      "source": "**I am used a small subset of test set (10000 rows) to generate the predictions as the number of rows in test set is huge and everytime I try to load the test set and do some operations, kernel runs out of memory.  **"
    },
    {
      "metadata": {
        "_uuid": "1f9f91b0a9656fcd19046a2382d18dd7b30a89d6"
      },
      "cell_type": "markdown",
      "source": "### TODO\n* Calculate the accuracy of the model. As of now the code is commented out as I am not sure if I am doing it correctly"
    },
    {
      "metadata": {
        "_uuid": "8f2839f25d086af736a60e9eeb907d3b93b6e0e5",
        "_cell_guid": "b1076dfc-b9ad-4769-8c92-a6c4dae69d19",
        "trusted": true
      },
      "cell_type": "code",
      "source": "import numpy as np # linear algebra\nimport pandas as pd # data processing, CSV file I/O (e.g. pd.read_csv)\nimport os\nimport seaborn as sns\nfrom sklearn import preprocessing\nfrom sklearn.model_selection import train_test_split\nfrom sklearn.preprocessing import StandardScaler\nimport matplotlib.pyplot as plt\nimport time\nimport torch\nimport torch.nn as nn\nfrom torch.utils.data import Dataset, DataLoader\nimport torch.nn.functional as F\nprint(os.listdir(\"../input\"))\nprint(torch.__version__)\n%matplotlib inline",
      "execution_count": null,
      "outputs": []
    },
    {
      "metadata": {
        "_cell_guid": "79c7e3d0-c299-4dcb-8224-4455121ee9b0",
        "_uuid": "d629ff2d2480ee46fbb7e2d37f6b5fab8052498a",
        "trusted": true
      },
      "cell_type": "code",
      "source": "df_train = pd.read_csv(\"../input/train.csv\")\ndf_train.head()",
      "execution_count": null,
      "outputs": []
    },
    {
      "metadata": {
        "trusted": true,
        "_uuid": "66b235d1ade3253e2ac01feb49acef9b096ebde9"
      },
      "cell_type": "code",
      "source": "df_train.shape",
      "execution_count": 150,
      "outputs": [
        {
          "output_type": "execute_result",
          "execution_count": 150,
          "data": {
            "text/plain": "(4867421, 28)"
          },
          "metadata": {}
        }
      ]
    },
    {
      "metadata": {
        "trusted": true,
        "_uuid": "3458a5ec0d15d95e75e1eb3a4a1ade99d0a9a5fe"
      },
      "cell_type": "code",
      "source": "df_train.info()",
      "execution_count": 151,
      "outputs": [
        {
          "output_type": "stream",
          "text": "<class 'pandas.core.frame.DataFrame'>\nRangeIndex: 4867421 entries, 0 to 4867420\nData columns (total 28 columns):\ncrew          int64\nexperiment    int64\ntime          float64\nseat          int64\neeg_fp1       float64\neeg_f7        float64\neeg_f8        float64\neeg_t4        float64\neeg_t6        float64\neeg_t5        float64\neeg_t3        float64\neeg_fp2       float64\neeg_o1        float64\neeg_p3        float64\neeg_pz        float64\neeg_f3        float64\neeg_fz        float64\neeg_f4        float64\neeg_c4        float64\neeg_p4        float64\neeg_poz       float64\neeg_c3        float64\neeg_cz        float64\neeg_o2        float64\necg           float64\nr             float64\ngsr           float64\nevent         int64\ndtypes: float64(24), int64(4)\nmemory usage: 1.0 GB\n",
          "name": "stdout"
        }
      ]
    },
    {
      "metadata": {
        "trusted": true,
        "_uuid": "d43aaa18012c968cda9467962923997898a87467"
      },
      "cell_type": "code",
      "source": "#Use only a small subset of the Test set.\n# use the test data set later \n# df_test = pd.read_csv(\"../input/test.csv\", nrows=10000)\n# df_test.head()",
      "execution_count": null,
      "outputs": []
    },
    {
      "metadata": {
        "trusted": true,
        "_uuid": "74dac8beb90f528cc1fc7d2d6f2f6fb4739af0d8"
      },
      "cell_type": "code",
      "source": "# df_test.shape",
      "execution_count": null,
      "outputs": []
    },
    {
      "metadata": {
        "trusted": true,
        "_uuid": "9aa569a7f15ce8a30d5949707cfb32fe8a1de6c6"
      },
      "cell_type": "code",
      "source": "# draw the count plot by the group of event \nsns.countplot(x='event', data=df_train)",
      "execution_count": null,
      "outputs": []
    },
    {
      "metadata": {
        "trusted": true,
        "_uuid": "08fe667929ae5147124527dc009d00f1c336df53"
      },
      "cell_type": "code",
      "source": "print(df_train['experiment'].unique())\n# print(df_test['experiment'].unique())",
      "execution_count": null,
      "outputs": []
    },
    {
      "metadata": {
        "trusted": true,
        "_uuid": "ce0a821cae140b7d7d6ed777ef2d197e2a5c6e99"
      },
      "cell_type": "code",
      "source": "# mapping the experiment to a certain mark\ndic = {'CA': 0, 'DA': 1, 'SS': 2, 'LOFT': 3}\ndf_train[\"experiment\"] = df_train[\"experiment\"].apply(lambda x: dic[x])\n# df_test[\"experiment\"] = df_test[\"experiment\"].apply(lambda x: dic[x])",
      "execution_count": null,
      "outputs": []
    },
    {
      "metadata": {
        "trusted": true,
        "_uuid": "7917384dd063e4d3187ca988f4f55379f4e1e9ac"
      },
      "cell_type": "code",
      "source": "# mapping the eveent to a certain mark\ndic = {'A': 0, 'B': 1, 'C': 2, 'D': 3}\ndf_train[\"event\"] = df_train[\"event\"].apply(lambda x: dic[x])",
      "execution_count": null,
      "outputs": []
    },
    {
      "metadata": {
        "trusted": true,
        "_uuid": "39d6d604e7c3bda4f7efd9304dc11c190d669824"
      },
      "cell_type": "code",
      "source": "df_train.head()",
      "execution_count": null,
      "outputs": []
    },
    {
      "metadata": {
        "trusted": true,
        "_uuid": "306c02eb8816b5e92962012235c41f15d011c65b"
      },
      "cell_type": "code",
      "source": "# X is the feature and y is the label data\nX = df_train.drop(columns=['event'], axis = 1)\nY = df_train['event']",
      "execution_count": null,
      "outputs": []
    },
    {
      "metadata": {
        "trusted": true,
        "_uuid": "d1f22f7bf4955f66e339df62606e56af7646c0a4"
      },
      "cell_type": "code",
      "source": "X.shape",
      "execution_count": 152,
      "outputs": [
        {
          "output_type": "execute_result",
          "execution_count": 152,
          "data": {
            "text/plain": "(4867421, 27)"
          },
          "metadata": {}
        }
      ]
    },
    {
      "metadata": {
        "trusted": true,
        "_uuid": "0e925130f9ab0882faaa22621b620295762e14b9"
      },
      "cell_type": "code",
      "source": "# Standardize features by removing the mean and scaling to unit variance\n# The standard score of a sample x is calculated as:\n# z = (x - u) / s\n# the unit is from -1 to 1.\n\n# Note: the standardScaler is based on the all the data \nscaler = StandardScaler()\nX_scaled = scaler.fit_transform(X)",
      "execution_count": null,
      "outputs": []
    },
    {
      "metadata": {
        "trusted": true,
        "_uuid": "bce56b16d1bf0d3963618344a0cde7ae0ed14de3"
      },
      "cell_type": "code",
      "source": "X_train, X_valid, y_train, y_valid = train_test_split(X_scaled, Y, test_size=0.2, random_state=42)",
      "execution_count": null,
      "outputs": []
    },
    {
      "metadata": {
        "trusted": true,
        "_uuid": "146f21afef55ca4d1a1bc0929b7ef5661485bf37"
      },
      "cell_type": "code",
      "source": "# make the category into the ont-hot embedding.\ndef to_categorical(y, num_classes):\n    \"\"\"\n    1-hot encodes a tensor\n    y is a pandas.Series type data\n    \"\"\"\n    return np.eye(num_classes, dtype='uint8')[y]",
      "execution_count": null,
      "outputs": []
    },
    {
      "metadata": {
        "trusted": true,
        "_uuid": "05ac884b029882c6ddb584757ab832b779b6ec91"
      },
      "cell_type": "code",
      "source": "# convert the y_train/y_valid into numpy ndarray\ny_train = to_categorical(y_train, 4)\ny_valid = to_categorical(y_valid, 4)",
      "execution_count": null,
      "outputs": []
    },
    {
      "metadata": {
        "trusted": true,
        "_uuid": "7fb20a886888fb2c6e76e1951c84acfa456e2717"
      },
      "cell_type": "code",
      "source": "y_train.shape\n# type(y_train)",
      "execution_count": 153,
      "outputs": [
        {
          "output_type": "execute_result",
          "execution_count": 153,
          "data": {
            "text/plain": "(3893936, 4)"
          },
          "metadata": {}
        }
      ]
    },
    {
      "metadata": {
        "trusted": true,
        "_uuid": "4c2888a20ee3ab86e460a8639333e9e8e8ed49e2"
      },
      "cell_type": "code",
      "source": "# conver it into tensor\nfeaturesTrain = torch.from_numpy(X_train).float()\ntargetsTrain = torch.from_numpy(y_train).type(torch.LongTensor) # data type is long",
      "execution_count": null,
      "outputs": []
    },
    {
      "metadata": {
        "trusted": true,
        "_uuid": "5768261b42162358cc37f45272a9b84c8945b645"
      },
      "cell_type": "code",
      "source": "# convert the array to tensor\nfeaturesValid = torch.from_numpy(X_valid).float()\ntargetsValid = torch.from_numpy(y_valid).type(torch.LongTensor) # data type is long",
      "execution_count": null,
      "outputs": []
    },
    {
      "metadata": {
        "trusted": true,
        "_uuid": "5e006cd3866345d24ad5b88bfcf01630dc15158f"
      },
      "cell_type": "code",
      "source": "# X_test = df_test.drop(['id'], axis = 1)\n# X_test.shape",
      "execution_count": null,
      "outputs": []
    },
    {
      "metadata": {
        "trusted": true,
        "_uuid": "36418793c55e0d5e7c10a48b961a1bf8c3f11e8e"
      },
      "cell_type": "code",
      "source": "# X_test_scaled = scaler.transform(X_test)",
      "execution_count": null,
      "outputs": []
    },
    {
      "metadata": {
        "trusted": true,
        "_uuid": "4f2aa8a0e9b870f721e480c170e24f76b5b8a841"
      },
      "cell_type": "code",
      "source": "# featuresTest = torch.from_numpy(X_test_scaled).float()",
      "execution_count": null,
      "outputs": []
    },
    {
      "metadata": {
        "trusted": true,
        "_uuid": "d87315e6da55dff5ae450d5db1f66d6fcc3cbc32"
      },
      "cell_type": "code",
      "source": "batch_size = 512\nnum_epochs = 100\n# Pytorch train and test sets\n# see the doc of the TensorDataset\ntrain = torch.utils.data.TensorDataset(featuresTrain,targetsTrain)\nvalid = torch.utils.data.TensorDataset(featuresValid,targetsValid)\n\ntrain_loader = DataLoader(train, batch_size = batch_size, shuffle = True)\nvalid_loader = DataLoader(valid, batch_size = batch_size, shuffle = True)",
      "execution_count": 154,
      "outputs": []
    },
    {
      "metadata": {
        "trusted": true,
        "_uuid": "8bc51c2132df8249259b8693c3f34cecc779439b"
      },
      "cell_type": "code",
      "source": "class NeuralNetwork(nn.Module):\n    '''\n    Build a fully connected layer \n    '''\n    def __init__(self, n_features, n_neurons, dropouts):\n        super().__init__()\n        self.layer1 = nn.Linear(in_features=n_features, out_features=n_neurons[0])\n        self.dropout1 = nn.Dropout(dropouts[0])\n        self.layer2 = nn.Linear(in_features=n_neurons[0], out_features=n_neurons[1])\n        self.dropout2 = nn.Dropout(dropouts[1])\n        self.out_layer = nn.Linear(in_features=n_neurons[1], out_features=4)\n     \n    def forward(self, X):\n        out = F.relu(self.layer1(X))\n        out = self.dropout1(out)\n        out = F.relu(self.layer2(out))\n        out = self.dropout2(out)\n        out = self.out_layer(out)\n        # it seems that the log_softmax works better than the softmax\n        return F.log_softmax(out, dim=1)\n        ",
      "execution_count": 158,
      "outputs": []
    },
    {
      "metadata": {
        "trusted": true,
        "_uuid": "8f9f0793c64f5c5c88bd67c300d8e85247b81ca8"
      },
      "cell_type": "code",
      "source": "# Initialize the neural network \ndevice = torch.device(\"cuda:0\" if torch.cuda.is_available() else \"cpu\")\nn_features = 27\nn_neurons = [100, 50]\ndropouts = [0.3, 0.2]\nmodel = NeuralNetwork(n_features, n_neurons, dropouts)\nmodel = model.to(device)\n# Cross Entropy Loss \n# since we have add the softmax into the forward function in the neural network, we use the NLLLoss function here\nerror = nn.NLLLoss()\n# Adam Optimizer\nlearning_rate = 0.01\noptimizer = torch.optim.Adam(model.parameters(), lr=learning_rate)",
      "execution_count": 159,
      "outputs": []
    },
    {
      "metadata": {
        "trusted": true,
        "_uuid": "772619310ce4edd04f05986d837b35a7d3a0a857"
      },
      "cell_type": "code",
      "source": "# train_losses = []\n# train_acc = []\n# valid_losses = []\n# valid_acc = []\nnum_epochs = 5\nfor e in range(num_epochs):\n    start_time = time.time()\n    # keep track of training and validation loss\n    train_loss = 0.0\n    valid_loss = 0.0\n    \n    model.train()\n    for i, (features, labels) in enumerate(train_loader):\n        #print(labels)\n        # Use the GPU to do the training \n        features, labels = features.to(device), labels.to(device)\n        # clean the gradient everytime and do the backward \n        optimizer.zero_grad()\n        outputs = model(features)\n#         print(outputs)\n        loss = error(outputs, torch.max(labels, 1)[1])\n        #loss = error(outputs, labels)\n        loss.backward()\n        optimizer.step()\n        # update training loss\n        train_loss += loss.item()*features.size(0)\n        \n        #TODO: Calculate the accuracy on the train test\n        #acc = torch.eq(outputs.round(), labels).float().mean() # accuracy\n        #_, predicted = torch.max(outputs.data, 1)\n        #_, actual = torch.max(labels, 1)\n        #total = len(labels)\n        #correct = (predicted == actual).sum()\n        #train_accuracy = 100 * correct / total\n        #train_losses.append(train_loss.item())\n        #train_acc.append(train_accuracy.item())\n        \n    model.eval()\n    for i, (features, labels) in enumerate(valid_loader):\n        features, labels = features.to(device), labels.to(device)\n        optimizer.zero_grad()\n        outputs = model(features)\n        loss = error(outputs, torch.max(labels, 1)[1]) # the max return the maximum value and the index\n        #loss = error(outputs, labels)\n        valid_loss += loss.item()*features.size(0)\n        \n        #_, predicted = torch.max(outputs.data, 1)\n        #_, actual = torch.max(labels, 1)\n        #total = len(labels)\n        #correct = (predicted == actual).sum()\n        #accuracy = 100 * correct / total\n        #valid_losses.append(loss.item())\n        #valid_acc.append(accuracy.item())\n    \n    \n    # calculate average losses\n    train_loss = train_loss/len(train_loader.dataset)\n    valid_loss = valid_loss/len(valid_loader.dataset)\n    elapsed_time = time.time() - start_time\n    # print training/validation statistics \n    print('Epoch: {} \\tTraining Loss: {:.6f} \\tValidation Loss: {:.6f} \\tTime: {:.2f}'.format(\n        e+1, train_loss, valid_loss, elapsed_time))    \n    \n#     if e % 1 == 0:\n#         print(\"[{}/{}], Train Loss: {} Train Acc: {}, Validation Loss : {}, Validation Acc: {} \".format(e+1,\n#         num_epochs, np.round(train_loss.item(), 3), np.round(train_accuracy.item(), 3), \n#         np.round(loss.item(), 3), np.round(accuracy.item(), 3)))",
      "execution_count": 166,
      "outputs": [
        {
          "output_type": "stream",
          "text": "Epoch: 1 \tTraining Loss: 0.188357 \tValidation Loss: 0.159395 \tTime: 45.00\nEpoch: 2 \tTraining Loss: 0.166708 \tValidation Loss: 0.140342 \tTime: 46.20\nEpoch: 3 \tTraining Loss: 0.158729 \tValidation Loss: 0.138296 \tTime: 46.49\nEpoch: 4 \tTraining Loss: 0.153983 \tValidation Loss: 0.134204 \tTime: 46.02\nEpoch: 5 \tTraining Loss: 0.152082 \tValidation Loss: 0.131632 \tTime: 45.86\n",
          "name": "stdout"
        }
      ]
    },
    {
      "metadata": {
        "_uuid": "c680cd8053b4c454941dc71167b0b8f688763d41"
      },
      "cell_type": "markdown",
      "source": "**try to plot the confusion matrix of the prediction**"
    },
    {
      "metadata": {
        "trusted": true,
        "_uuid": "ee18af3cf4f4c775d993a052d7f71bec0d2c6f85"
      },
      "cell_type": "code",
      "source": "# #  test the cat function \n# prediction_labels_cm=torch.tensor([1])\n# prediction_labels_cm=torch.cat((prediction_labels_cm,torch.tensor([1,2,3,4])),dim=0)\n# torch.cat((prediction_labels_cm,torch.tensor([1,2,3,4])),dim=0)",
      "execution_count": 169,
      "outputs": []
    },
    {
      "metadata": {
        "trusted": true,
        "_uuid": "ea880791643f732c77ff23b715c14194caa34b23"
      },
      "cell_type": "code",
      "source": "# switch to the evaluation mode\nmodel.eval()\nfor i, (features, labels) in enumerate(valid_loader):\n    features, labels = features.to(device), labels.to(device)\n    outputs = model(features)\n#     make prediction based on the features of each data\n    if i ==0:\n        prediction_labels_cm=torch.max(outputs,dim=1)[1]\n#         print(i,\"\\n\",prediction_labels_cm)\n    else:\n        prediction_labels_cm=torch.cat((prediction_labels_cm,torch.max(outputs,dim=1)[1]),dim=0)\n#         print(torch.max(outputs,dim=1)[1])\n#         print(i,\"\\n\",prediction_labels_cm)\nprint(prediction_labels_cm.size())\n# the size of validation data set is 973485",
      "execution_count": 170,
      "outputs": [
        {
          "output_type": "stream",
          "text": "torch.Size([973485])\n",
          "name": "stdout"
        }
      ]
    },
    {
      "metadata": {
        "trusted": true,
        "_uuid": "63a2d93a7c4d430569fb69945b65fb57f47c4ec5"
      },
      "cell_type": "code",
      "source": "from sklearn.metrics import confusion_matrix\nimport itertools\n\ndef plot_confusion_matrix(cm, classes, title='Confusion matrix', normalize=False, cmap=plt.cm.Oranges):\n    if normalize:\n        cm = cm.astype('float') / cm.sum(axis=1)[:, np.newaxis]\n    fmt = '.2f' if normalize else 'd'\n\n    fig, ax = plt.subplots()\n    ax.imshow(cm, interpolation='nearest', cmap=cmap)\n\n    plt.imshow(cm, interpolation='nearest', cmap=cmap)\n    plt.title(title, size=15)\n    plt.colorbar()\n    plt.grid(False)\n    tick_marks = np.arange(len(classes))\n    plt.xticks(tick_marks, classes, rotation=45)\n    plt.yticks(tick_marks, classes)\n\n    thresh = (cm.max()+cm.min()) / 2.\n    for i, j in itertools.product(range(cm.shape[0]), range(cm.shape[1])):\n        plt.text(j, i, format(cm[i, j], fmt),\n                 horizontalalignment=\"center\",\n                 color=\"white\" if cm[i, j] > thresh else \"black\")\n\n    plt.tight_layout()\n    plt.ylabel('True label', size=12)\n    plt.xlabel('Predicted label', size=12)\n    ",
      "execution_count": 186,
      "outputs": []
    },
    {
      "metadata": {
        "trusted": true,
        "_uuid": "fa5baf4a50bf8eca98fd93396c9673b5bc8356aa"
      },
      "cell_type": "code",
      "source": "# get the true labels of the validation data set \nvalid_labels_cm=torch.max(torch.tensor(y_valid),1)[1]\nvalid_labels_cm.size()",
      "execution_count": 172,
      "outputs": [
        {
          "output_type": "execute_result",
          "execution_count": 172,
          "data": {
            "text/plain": "torch.Size([973485])"
          },
          "metadata": {}
        }
      ]
    },
    {
      "metadata": {
        "trusted": true,
        "_uuid": "4b65325777c4bbd730810817c481bc63dac1feee"
      },
      "cell_type": "code",
      "source": "conf_mat_val = confusion_matrix(prediction_labels_cm.cpu(), valid_labels_cm)\nplot_confusion_matrix(conf_mat_val, [\"A\", \"B\", \"C\", \"D\"], title='Confusion matrix on Validation data', normalize=True)",
      "execution_count": 187,
      "outputs": [
        {
          "output_type": "display_data",
          "data": {
            "text/plain": "<Figure size 432x288 with 2 Axes>",
            "image/png": "[encoded data removed]"
          },
          "metadata": {}
        }
      ]
    },
    {
      "metadata": {
        "trusted": true,
        "_uuid": "74d711ce7a082bc2a0edd923b185c1d7fb78e3e7"
      },
      "cell_type": "code",
      "source": "# test = torch.utils.data.TensorDataset(featuresTest)\n# test_loader = DataLoader(test, batch_size = batch_size, shuffle = False)\n# test_preds = np.zeros((len(test), 4))\n\n# for i, (x_batch,) in enumerate(test_loader):\n#     x_batch = x_batch.to(device)\n#     y_pred = model(x_batch).detach()\n#     test_preds[i * batch_size:(i+1) * batch_size, :] = y_pred.cpu().numpy()",
      "execution_count": null,
      "outputs": []
    },
    {
      "metadata": {
        "trusted": true,
        "_uuid": "4197a74629d5c224f7febf1e62ab3b971c6e46de"
      },
      "cell_type": "code",
      "source": "# test_preds.shape",
      "execution_count": null,
      "outputs": []
    },
    {
      "metadata": {
        "trusted": true,
        "_uuid": "c03ca5913234b186fd0bc2b764ebd9fa339d5115"
      },
      "cell_type": "code",
      "source": "# test_preds[100:110, :]",
      "execution_count": null,
      "outputs": []
    },
    {
      "metadata": {
        "trusted": true,
        "_uuid": "abad734a2fe7e65729225d82c1b200970d7c64e1"
      },
      "cell_type": "code",
      "source": "# submission = pd.DataFrame({'id':df_test['id'],'A':test_preds[:, 0], 'B':test_preds[:, 1],\n#                           'C':test_preds[:, 2], 'D':test_preds[:, 3]})\n# submission.head()",
      "execution_count": null,
      "outputs": []
    },
    {
      "metadata": {
        "trusted": true,
        "_uuid": "3a63de870716c1b3e7697331326d26b4decc9f90"
      },
      "cell_type": "code",
      "source": "",
      "execution_count": null,
      "outputs": []
    }
  ],
  "metadata": {
    "kernelspec": {
      "display_name": "Python 3",
      "language": "python",
      "name": "python3"
    },
    "language_info": {
      "name": "python",
      "version": "3.6.6",
      "mimetype": "text/x-python",
      "codemirror_mode": {
        "name": "ipython",
        "version": 3
      },
      "pygments_lexer": "ipython3",
      "nbconvert_exporter": "python",
      "file_extension": ".py"
    }
  },
  "nbformat": 4,
  "nbformat_minor": 1
}