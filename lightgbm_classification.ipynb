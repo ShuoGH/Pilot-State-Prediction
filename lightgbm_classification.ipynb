{
 "cells": [
  {
   "cell_type": "code",
   "execution_count": null,
   "metadata": {
    "_cell_guid": "b1076dfc-b9ad-4769-8c92-a6c4dae69d19",
    "_uuid": "8f2839f25d086af736a60e9eeb907d3b93b6e0e5"
   },
   "outputs": [],
   "source": [
    "# This Python 3 environment comes with many helpful analytics libraries installed\n",
    "# It is defined by the kaggle/python docker image: https://github.com/kaggle/docker-python\n",
    "# For example, here's several helpful packages to load in \n",
    "\n",
    "import numpy as np # linear algebra\n",
    "import pandas as pd # data processing, CSV file I/O (e.g. pd.read_csv)\n",
    "\n",
    "# Input data files are available in the \"../input/\" directory.\n",
    "# For example, running this (by clicking run or pressing Shift+Enter) will list the files in the input directory\n",
    "\n",
    "import os\n",
    "# print(os.listdir(\"../input\"))\n",
    "# Any results you write to the current directory are saved as output."
   ]
  },
  {
   "cell_type": "markdown",
   "metadata": {
    "_uuid": "fde5e36aa187e7158eab558e27c0aaf3f2793802"
   },
   "source": [
    "## Loading the data"
   ]
  },
  {
   "cell_type": "code",
   "execution_count": null,
   "metadata": {
    "_uuid": "d5a98abbdca2d619974a32aa88f3b6a69b7f4415"
   },
   "outputs": [],
   "source": [
    "dtypes = {\"crew\": \"int8\",\n",
    "          \"experiment\": \"category\",\n",
    "          \"time\": \"float32\",\n",
    "          \"seat\": \"int8\",\n",
    "          \"eeg_fp1\": \"float32\",\n",
    "          \"eeg_f7\": \"float32\",\n",
    "          \"eeg_f8\": \"float32\",\n",
    "          \"eeg_t4\": \"float32\",\n",
    "          \"eeg_t6\": \"float32\",\n",
    "          \"eeg_t5\": \"float32\",\n",
    "          \"eeg_t3\": \"float32\",\n",
    "          \"eeg_fp2\": \"float32\",\n",
    "          \"eeg_o1\": \"float32\",\n",
    "          \"eeg_p3\": \"float32\",\n",
    "          \"eeg_pz\": \"float32\",\n",
    "          \"eeg_f3\": \"float32\",\n",
    "          \"eeg_fz\": \"float32\",\n",
    "          \"eeg_f4\": \"float32\",\n",
    "          \"eeg_c4\": \"float32\",\n",
    "          \"eeg_p4\": \"float32\",\n",
    "          \"eeg_poz\": \"float32\",\n",
    "          \"eeg_c3\": \"float32\",\n",
    "          \"eeg_cz\": \"float32\",\n",
    "          \"eeg_o2\": \"float32\",\n",
    "          \"ecg\": \"float32\",\n",
    "          \"r\": \"float32\",\n",
    "          \"gsr\": \"float32\",\n",
    "          \"event\": \"category\",\n",
    "         }"
   ]
  },
  {
   "cell_type": "code",
   "execution_count": null,
   "metadata": {
    "_uuid": "38eef23e62760c01077372020e6eb9ad8df6df33"
   },
   "outputs": [],
   "source": [
    "train_df = pd.read_csv(\"../input/train.csv\", dtype=dtypes)\n",
    "test_df = pd.read_csv(\"../input/test.csv\", dtype=dtypes)"
   ]
  },
  {
   "cell_type": "code",
   "execution_count": null,
   "metadata": {
    "_uuid": "16e504fefbc946203694016679b4fd61faba9d76"
   },
   "outputs": [],
   "source": [
    "train_df.head()"
   ]
  },
  {
   "cell_type": "markdown",
   "metadata": {
    "_uuid": "8889d9c48519e8b71440d57325b972d6dab75bfc"
   },
   "source": [
    "## Normalization"
   ]
  },
  {
   "cell_type": "code",
   "execution_count": null,
   "metadata": {
    "_uuid": "68003cf08233986ebe7554edf37260f0737bd33d"
   },
   "outputs": [],
   "source": [
    "from sklearn.preprocessing import MinMaxScaler\n",
    "from tqdm import tqdm_notebook as tqdm\n",
    "# the tqdm is for showing the process"
   ]
  },
  {
   "cell_type": "code",
   "execution_count": null,
   "metadata": {
    "_uuid": "180910b941bd67e089dad44ab3c282d2117fa975"
   },
   "outputs": [],
   "source": [
    "features_n = [\"eeg_fp1\", \"eeg_f7\", \"eeg_f8\", \"eeg_t4\", \"eeg_t6\", \"eeg_t5\", \"eeg_t3\", \"eeg_fp2\", \"eeg_o1\", \"eeg_p3\", \"eeg_pz\", \"eeg_f3\", \"eeg_fz\", \"eeg_f4\", \"eeg_c4\", \"eeg_p4\", \"eeg_poz\", \"eeg_c3\", \"eeg_cz\", \"eeg_o2\", \"ecg\", \"r\", \"gsr\"]"
   ]
  },
  {
   "cell_type": "code",
   "execution_count": null,
   "metadata": {
    "_uuid": "877125205e215dbba1caeb7ac2f2d1b94bb1ebaa"
   },
   "outputs": [],
   "source": [
    "train_df['pilot'] = 100 * train_df['seat'] + train_df['crew']\n",
    "test_df['pilot'] = 100 * test_df['seat'] + test_df['crew']\n",
    "\n",
    "print(\"Number of pilots : \", len(train_df['pilot'].unique()))"
   ]
  },
  {
   "cell_type": "code",
   "execution_count": null,
   "metadata": {
    "_uuid": "e9de9b1db5329ee7fb882c8c861b7a8d5d506da5"
   },
   "outputs": [],
   "source": [
    "train_df['pilot'].unique()"
   ]
  },
  {
   "cell_type": "code",
   "execution_count": null,
   "metadata": {
    "_uuid": "bb7b6b14340ef85e2484f248375b3fe893c4a42a"
   },
   "outputs": [],
   "source": [
    "def normalize_by_pilots(df):\n",
    "    pilots = df[\"pilot\"].unique()\n",
    "    for pilot in tqdm(pilots):\n",
    "        ids = df[df[\"pilot\"] == pilot].index\n",
    "        scaler = MinMaxScaler()\n",
    "        df.loc[ids, features_n] = scaler.fit_transform(df.loc[ids, features_n])        \n",
    "    return df"
   ]
  },
  {
   "cell_type": "code",
   "execution_count": null,
   "metadata": {
    "_uuid": "d1014dd1c4f56d14e27dcf9a7f8677bfc88c922c",
    "scrolled": true
   },
   "outputs": [],
   "source": [
    "train_df = normalize_by_pilots(train_df)\n",
    "test_df = normalize_by_pilots(test_df)"
   ]
  },
  {
   "cell_type": "code",
   "execution_count": null,
   "metadata": {
    "_uuid": "e7a4ff4599637e3a4b3cb459307780221d0d065b"
   },
   "outputs": [],
   "source": [
    "test_df.head()"
   ]
  },
  {
   "cell_type": "markdown",
   "metadata": {
    "_uuid": "b8169eae0d1a1bba4e152d75227cba5a2d0a3bc8"
   },
   "source": [
    "## Train/Test split"
   ]
  },
  {
   "cell_type": "code",
   "execution_count": 31,
   "metadata": {
    "_uuid": "a75ddbe29fea1f3f6d3bfbb49b4ebf83b672542e"
   },
   "outputs": [],
   "source": [
    "from sklearn.model_selection import train_test_split\n",
    "import lightgbm as lgb"
   ]
  },
  {
   "cell_type": "code",
   "execution_count": null,
   "metadata": {
    "_uuid": "15aecd5b71dab790fec638eb93e491c38dd0eee4"
   },
   "outputs": [],
   "source": [
    "train_df, val_df = train_test_split(train_df, test_size=0.2, random_state=420)\n",
    "print(f\"Training on {train_df.shape[0]} samples.\")"
   ]
  },
  {
   "cell_type": "code",
   "execution_count": 29,
   "metadata": {
    "_uuid": "a1eaed9fcfd0511b1e7bdabb7189e6a99563617f"
   },
   "outputs": [],
   "source": [
    "features = [\"crew\", \"seat\"] + features_n\n",
    "      \n",
    "def run_lgb(df_train, df_test):\n",
    "    # Classes as integers\n",
    "    dic = {'A': 0, 'B': 1, 'C': 2, 'D': 3}\n",
    "    try:\n",
    "        df_train[\"event\"] = df_train[\"event\"].apply(lambda x: dic[x])\n",
    "        df_test[\"event\"] = df_test[\"event\"].apply(lambda x: dic[x])\n",
    "    except: \n",
    "        pass\n",
    "    params = {\"objective\" : \"multiclass\",\n",
    "              \"num_class\": 4,\n",
    "              \"metric\" : \"multi_error\",\n",
    "              \"num_leaves\" : 30,\n",
    "              \"min_child_weight\" : 50,\n",
    "              \"learning_rate\" : 0.1,\n",
    "              \"bagging_fraction\" : 0.7,\n",
    "              \"feature_fraction\" : 0.7,\n",
    "              \"bagging_seed\" : 420,\n",
    "              \"verbosity\" : -1\n",
    "             }\n",
    "    \n",
    "    lg_train = lgb.Dataset(df_train[features], label=(df_train[\"event\"]))\n",
    "    lg_test = lgb.Dataset(df_test[features], label=(df_test[\"event\"]))\n",
    "    model = lgb.train(params, lg_train, 1000, valid_sets=[lg_test], early_stopping_rounds=50, verbose_eval=100)\n",
    "    \n",
    "    return model"
   ]
  },
  {
   "cell_type": "code",
   "execution_count": 32,
   "metadata": {
    "_uuid": "02949f2c64692cf72c433cbc01be27c456027e3b"
   },
   "outputs": [
    {
     "name": "stdout",
     "output_type": "stream",
     "text": [
      "Training until validation scores don't improve for 50 rounds.\n",
      "[100]\tvalid_0's multi_error: 0.0821512\n",
      "[200]\tvalid_0's multi_error: 0.068337\n",
      "[300]\tvalid_0's multi_error: 0.0598006\n",
      "[400]\tvalid_0's multi_error: 0.0539228\n",
      "[500]\tvalid_0's multi_error: 0.0499443\n",
      "[600]\tvalid_0's multi_error: 0.0467958\n",
      "[700]\tvalid_0's multi_error: 0.044165\n",
      "[800]\tvalid_0's multi_error: 0.0419852\n",
      "[900]\tvalid_0's multi_error: 0.0399277\n",
      "[1000]\tvalid_0's multi_error: 0.0383067\n",
      "Did not meet early stopping. Best iteration is:\n",
      "[1000]\tvalid_0's multi_error: 0.0383067\n"
     ]
    }
   ],
   "source": [
    "model = run_lgb(train_df, val_df)"
   ]
  },
  {
   "cell_type": "markdown",
   "metadata": {
    "_uuid": "2a1baf6a41a2d25acbf6cdbb30aad926027841bb"
   },
   "source": [
    " ### Feature importance\n"
   ]
  },
  {
   "cell_type": "code",
   "execution_count": 42,
   "metadata": {
    "_uuid": "0083b23773521ba002ebd2af7e798747b89e386b"
   },
   "outputs": [],
   "source": [
    "from sklearn.metrics import confusion_matrix, log_loss\n",
    "import matplotlib.pyplot as plt\n",
    "import itertools"
   ]
  },
  {
   "cell_type": "code",
   "execution_count": 36,
   "metadata": {
    "_uuid": "5d1733a936bcf03bc96a29122b49afbdead7f9e1"
   },
   "outputs": [],
   "source": [
    "pred_val = model.predict(val_df[features], num_iteration=model.best_iteration)"
   ]
  },
  {
   "cell_type": "code",
   "execution_count": 37,
   "metadata": {
    "_uuid": "4d2c685ef8ba6142402455b9500b97085d937db5"
   },
   "outputs": [
    {
     "name": "stdout",
     "output_type": "stream",
     "text": [
      "Log loss on validation data : 0.108\n"
     ]
    }
   ],
   "source": [
    "print(\"Log loss on validation data :\", round(log_loss(np.array(val_df[\"event\"].values), pred_val), 3))"
   ]
  },
  {
   "cell_type": "code",
   "execution_count": 43,
   "metadata": {
    "_uuid": "5b7275150333ced39e44a77e16553f1d3b0766e0"
   },
   "outputs": [],
   "source": [
    "def plot_confusion_matrix(cm, classes, title='Confusion matrix', normalize=False, cmap=plt.cm.Blues):\n",
    "    if normalize:\n",
    "        cm = cm.astype('float') / cm.sum(axis=1)[:, np.newaxis]\n",
    "    fmt = '.2f' if normalize else 'd'\n",
    "\n",
    "    fig, ax = plt.subplots(figsize=(15, 10))\n",
    "    ax.imshow(cm, interpolation='nearest', cmap=cmap)\n",
    "\n",
    "    plt.imshow(cm, interpolation='nearest', cmap=cmap)\n",
    "    plt.title(title, size=15)\n",
    "    plt.colorbar()\n",
    "    plt.grid(False)\n",
    "    tick_marks = np.arange(len(classes))\n",
    "    plt.xticks(tick_marks, classes, rotation=45)\n",
    "    plt.yticks(tick_marks, classes)\n",
    "\n",
    "    thresh = (cm.max()+cm.min()) / 2.\n",
    "    for i, j in itertools.product(range(cm.shape[0]), range(cm.shape[1])):\n",
    "        plt.text(j, i, format(cm[i, j], fmt),\n",
    "                 horizontalalignment=\"center\",\n",
    "                 color=\"white\" if cm[i, j] > thresh else \"black\")\n",
    "\n",
    "    plt.tight_layout()\n",
    "    plt.ylabel('True label', size=12)\n",
    "    plt.xlabel('Predicted label', size=12)"
   ]
  },
  {
   "cell_type": "code",
   "execution_count": 44,
   "metadata": {
    "_uuid": "67c648b7f4183bc915948198f75ce6a122ed9ea5"
   },
   "outputs": [
    {
     "data": {
      "image/png": "[encoded data removed]",
      "text/plain": [
       "<Figure size 1080x720 with 2 Axes>"
      ]
     },
     "metadata": {},
     "output_type": "display_data"
    }
   ],
   "source": [
    "conf_mat_val = confusion_matrix(np.argmax(pred_val, axis=1), val_df[\"event\"].values)\n",
    "plot_confusion_matrix(conf_mat_val, [\"A\", \"B\", \"C\", \"D\"], title='Confusion matrix on Validation data', normalize=True)"
   ]
  },
  {
   "cell_type": "markdown",
   "metadata": {
    "_uuid": "43c0e4e629702383989c8f2b89e058dce4b7f32f"
   },
   "source": [
    "## submission"
   ]
  },
  {
   "cell_type": "code",
   "execution_count": 45,
   "metadata": {
    "_uuid": "6abe2b0199de2ac93e0148dd8242d357f6112b72"
   },
   "outputs": [],
   "source": [
    "pred_test = model.predict(test_df[features], num_iteration=model.best_iteration)"
   ]
  },
  {
   "cell_type": "code",
   "execution_count": 46,
   "metadata": {
    "_uuid": "6ea5b90026ee1ff8c24ccdc65257e10d93445e32"
   },
   "outputs": [],
   "source": [
    "submission = pd.DataFrame(np.concatenate((np.arange(len(test_df))[:, np.newaxis], pred_test), axis=1), columns=['id', 'A', 'B', 'C', 'D'])\n",
    "submission['id'] = submission['id'].astype(int)"
   ]
  },
  {
   "cell_type": "code",
   "execution_count": 47,
   "metadata": {
    "_uuid": "525cacb30dbca0ebb422167edf7365f9646f866e"
   },
   "outputs": [
    {
     "data": {
      "text/html": [
       "<div>\n",
       "<style scoped>\n",
       "    .dataframe tbody tr th:only-of-type {\n",
       "        vertical-align: middle;\n",
       "    }\n",
       "\n",
       "    .dataframe tbody tr th {\n",
       "        vertical-align: top;\n",
       "    }\n",
       "\n",
       "    .dataframe thead th {\n",
       "        text-align: right;\n",
       "    }\n",
       "</style>\n",
       "<table border=\"1\" class=\"dataframe\">\n",
       "  <thead>\n",
       "    <tr style=\"text-align: right;\">\n",
       "      <th></th>\n",
       "      <th>id</th>\n",
       "      <th>A</th>\n",
       "      <th>B</th>\n",
       "      <th>C</th>\n",
       "      <th>D</th>\n",
       "    </tr>\n",
       "  </thead>\n",
       "  <tbody>\n",
       "    <tr>\n",
       "      <th>0</th>\n",
       "      <td>0</td>\n",
       "      <td>0.983302</td>\n",
       "      <td>0.007937</td>\n",
       "      <td>0.002576</td>\n",
       "      <td>0.006186</td>\n",
       "    </tr>\n",
       "    <tr>\n",
       "      <th>1</th>\n",
       "      <td>1</td>\n",
       "      <td>0.988025</td>\n",
       "      <td>0.000176</td>\n",
       "      <td>0.000929</td>\n",
       "      <td>0.010870</td>\n",
       "    </tr>\n",
       "    <tr>\n",
       "      <th>2</th>\n",
       "      <td>2</td>\n",
       "      <td>0.979629</td>\n",
       "      <td>0.006281</td>\n",
       "      <td>0.004426</td>\n",
       "      <td>0.009664</td>\n",
       "    </tr>\n",
       "    <tr>\n",
       "      <th>3</th>\n",
       "      <td>3</td>\n",
       "      <td>0.988181</td>\n",
       "      <td>0.000185</td>\n",
       "      <td>0.000976</td>\n",
       "      <td>0.010658</td>\n",
       "    </tr>\n",
       "    <tr>\n",
       "      <th>4</th>\n",
       "      <td>4</td>\n",
       "      <td>0.984778</td>\n",
       "      <td>0.005659</td>\n",
       "      <td>0.004741</td>\n",
       "      <td>0.004822</td>\n",
       "    </tr>\n",
       "  </tbody>\n",
       "</table>\n",
       "</div>"
      ],
      "text/plain": [
       "   id         A         B         C         D\n",
       "0   0  0.983302  0.007937  0.002576  0.006186\n",
       "1   1  0.988025  0.000176  0.000929  0.010870\n",
       "2   2  0.979629  0.006281  0.004426  0.009664\n",
       "3   3  0.988181  0.000185  0.000976  0.010658\n",
       "4   4  0.984778  0.005659  0.004741  0.004822"
      ]
     },
     "execution_count": 47,
     "metadata": {},
     "output_type": "execute_result"
    }
   ],
   "source": [
    "submission.head()"
   ]
  },
  {
   "cell_type": "code",
   "execution_count": 48,
   "metadata": {
    "_uuid": "09811dfdb5f15e9d79b6ec105b2904f8652ac1bb"
   },
   "outputs": [],
   "source": [
    "submission.to_csv(\"submission.csv\", index=False)"
   ]
  }
 ],
 "metadata": {
  "kernelspec": {
   "display_name": "Python 3",
   "language": "python",
   "name": "python3"
  },
  "language_info": {
   "codemirror_mode": {
    "name": "ipython",
    "version": 3
   },
   "file_extension": ".py",
   "mimetype": "text/x-python",
   "name": "python",
   "nbconvert_exporter": "python",
   "pygments_lexer": "ipython3",
   "version": "3.7.1"
  }
 },
 "nbformat": 4,
 "nbformat_minor": 1
}
