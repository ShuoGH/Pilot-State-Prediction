{
 "cells": [
  {
   "cell_type": "markdown",
   "metadata": {
    "_uuid": "8a755f32f75eb30f021cb6db0efaf67a13f7e211"
   },
   "source": [
    "## Reducing Aviation Fatalities: A Neural Network approach using Pytorch"
   ]
  },
  {
   "cell_type": "markdown",
   "metadata": {
    "_uuid": "92b73da614d3258d21bdc3eaf9cdb08b7a2e4277"
   },
   "source": [
    "This kernel aims to create a neural network using pytorch. I am new to pytorch and I am still learning the nitty gritties of pytorch so if you find any mistakes or any imporvements that can be done please let me know in the comments section and I will be more than happy to address it."
   ]
  },
  {
   "cell_type": "markdown",
   "metadata": {
    "_uuid": "bf74ee53239452980627434ef2b3f7e0fe629607"
   },
   "source": [
    "**I am used a small subset of test set (10000 rows) to generate the predictions as the number of rows in test set is huge and everytime I try to load the test set and do some operations, kernel runs out of memory.  **"
   ]
  },
  {
   "cell_type": "markdown",
   "metadata": {
    "_uuid": "1f9f91b0a9656fcd19046a2382d18dd7b30a89d6"
   },
   "source": [
    "### TODO\n",
    "* Calculate the accuracy of the model. As of now the code is commented out as I am not sure if I am doing it correctly"
   ]
  },
  {
   "cell_type": "code",
   "execution_count": 1,
   "metadata": {
    "_cell_guid": "b1076dfc-b9ad-4769-8c92-a6c4dae69d19",
    "_uuid": "8f2839f25d086af736a60e9eeb907d3b93b6e0e5"
   },
   "outputs": [
    {
     "name": "stdout",
     "output_type": "stream",
     "text": [
      "['sample_submission.csv', 'test.csv', 'train.csv']\n",
      "1.0.1.post2\n"
     ]
    }
   ],
   "source": [
    "import numpy as np # linear algebra\n",
    "import pandas as pd # data processing, CSV file I/O (e.g. pd.read_csv)\n",
    "import os\n",
    "import seaborn as sns\n",
    "from sklearn import preprocessing\n",
    "from sklearn.model_selection import train_test_split\n",
    "from sklearn.preprocessing import StandardScaler\n",
    "import matplotlib.pyplot as plt\n",
    "import time\n",
    "import torch\n",
    "import torch.nn as nn\n",
    "from torch.utils.data import Dataset, DataLoader\n",
    "import torch.nn.functional as F\n",
    "print(os.listdir(\"../input\"))\n",
    "print(torch.__version__)\n",
    "%matplotlib inline"
   ]
  },
  {
   "cell_type": "code",
   "execution_count": 2,
   "metadata": {
    "_cell_guid": "79c7e3d0-c299-4dcb-8224-4455121ee9b0",
    "_uuid": "d629ff2d2480ee46fbb7e2d37f6b5fab8052498a"
   },
   "outputs": [
    {
     "data": {
      "text/html": [
       "<div>\n",
       "<style scoped>\n",
       "    .dataframe tbody tr th:only-of-type {\n",
       "        vertical-align: middle;\n",
       "    }\n",
       "\n",
       "    .dataframe tbody tr th {\n",
       "        vertical-align: top;\n",
       "    }\n",
       "\n",
       "    .dataframe thead th {\n",
       "        text-align: right;\n",
       "    }\n",
       "</style>\n",
       "<table border=\"1\" class=\"dataframe\">\n",
       "  <thead>\n",
       "    <tr style=\"text-align: right;\">\n",
       "      <th></th>\n",
       "      <th>crew</th>\n",
       "      <th>experiment</th>\n",
       "      <th>time</th>\n",
       "      <th>seat</th>\n",
       "      <th>eeg_fp1</th>\n",
       "      <th>eeg_f7</th>\n",
       "      <th>eeg_f8</th>\n",
       "      <th>eeg_t4</th>\n",
       "      <th>eeg_t6</th>\n",
       "      <th>eeg_t5</th>\n",
       "      <th>eeg_t3</th>\n",
       "      <th>eeg_fp2</th>\n",
       "      <th>eeg_o1</th>\n",
       "      <th>eeg_p3</th>\n",
       "      <th>eeg_pz</th>\n",
       "      <th>eeg_f3</th>\n",
       "      <th>eeg_fz</th>\n",
       "      <th>eeg_f4</th>\n",
       "      <th>eeg_c4</th>\n",
       "      <th>eeg_p4</th>\n",
       "      <th>eeg_poz</th>\n",
       "      <th>eeg_c3</th>\n",
       "      <th>eeg_cz</th>\n",
       "      <th>eeg_o2</th>\n",
       "      <th>ecg</th>\n",
       "      <th>r</th>\n",
       "      <th>gsr</th>\n",
       "      <th>event</th>\n",
       "    </tr>\n",
       "  </thead>\n",
       "  <tbody>\n",
       "    <tr>\n",
       "      <th>0</th>\n",
       "      <td>1</td>\n",
       "      <td>CA</td>\n",
       "      <td>0.011719</td>\n",
       "      <td>1</td>\n",
       "      <td>-5.28545</td>\n",
       "      <td>26.775801</td>\n",
       "      <td>-9.527310</td>\n",
       "      <td>-12.793200</td>\n",
       "      <td>16.717800</td>\n",
       "      <td>33.737499</td>\n",
       "      <td>23.712299</td>\n",
       "      <td>-6.695870</td>\n",
       "      <td>29.232100</td>\n",
       "      <td>24.842899</td>\n",
       "      <td>3.92134</td>\n",
       "      <td>18.447001</td>\n",
       "      <td>1.07547</td>\n",
       "      <td>3.09029</td>\n",
       "      <td>37.368999</td>\n",
       "      <td>17.437599</td>\n",
       "      <td>19.201900</td>\n",
       "      <td>20.5968</td>\n",
       "      <td>-3.95115</td>\n",
       "      <td>14.507600</td>\n",
       "      <td>-4520.0</td>\n",
       "      <td>817.705994</td>\n",
       "      <td>388.829987</td>\n",
       "      <td>A</td>\n",
       "    </tr>\n",
       "    <tr>\n",
       "      <th>1</th>\n",
       "      <td>1</td>\n",
       "      <td>CA</td>\n",
       "      <td>0.015625</td>\n",
       "      <td>1</td>\n",
       "      <td>-2.42842</td>\n",
       "      <td>28.430901</td>\n",
       "      <td>-9.323510</td>\n",
       "      <td>-3.757230</td>\n",
       "      <td>15.969300</td>\n",
       "      <td>30.443600</td>\n",
       "      <td>21.010300</td>\n",
       "      <td>-6.474720</td>\n",
       "      <td>26.641399</td>\n",
       "      <td>24.138800</td>\n",
       "      <td>5.46991</td>\n",
       "      <td>20.510599</td>\n",
       "      <td>2.83354</td>\n",
       "      <td>7.10177</td>\n",
       "      <td>31.170799</td>\n",
       "      <td>19.399700</td>\n",
       "      <td>19.689501</td>\n",
       "      <td>21.3547</td>\n",
       "      <td>1.33212</td>\n",
       "      <td>17.750200</td>\n",
       "      <td>-4520.0</td>\n",
       "      <td>817.705994</td>\n",
       "      <td>388.829987</td>\n",
       "      <td>A</td>\n",
       "    </tr>\n",
       "    <tr>\n",
       "      <th>2</th>\n",
       "      <td>1</td>\n",
       "      <td>CA</td>\n",
       "      <td>0.019531</td>\n",
       "      <td>1</td>\n",
       "      <td>10.67150</td>\n",
       "      <td>30.420200</td>\n",
       "      <td>15.350700</td>\n",
       "      <td>24.724001</td>\n",
       "      <td>16.143101</td>\n",
       "      <td>32.142799</td>\n",
       "      <td>25.431801</td>\n",
       "      <td>-0.088707</td>\n",
       "      <td>28.119900</td>\n",
       "      <td>26.891300</td>\n",
       "      <td>8.57886</td>\n",
       "      <td>23.162901</td>\n",
       "      <td>4.51993</td>\n",
       "      <td>12.70550</td>\n",
       "      <td>-12.012600</td>\n",
       "      <td>19.396299</td>\n",
       "      <td>23.171700</td>\n",
       "      <td>22.4076</td>\n",
       "      <td>1.53786</td>\n",
       "      <td>22.247000</td>\n",
       "      <td>-4520.0</td>\n",
       "      <td>817.705994</td>\n",
       "      <td>388.829987</td>\n",
       "      <td>A</td>\n",
       "    </tr>\n",
       "    <tr>\n",
       "      <th>3</th>\n",
       "      <td>1</td>\n",
       "      <td>CA</td>\n",
       "      <td>0.023438</td>\n",
       "      <td>1</td>\n",
       "      <td>11.45250</td>\n",
       "      <td>25.609800</td>\n",
       "      <td>2.433080</td>\n",
       "      <td>12.412500</td>\n",
       "      <td>20.533300</td>\n",
       "      <td>31.494101</td>\n",
       "      <td>19.142799</td>\n",
       "      <td>-0.256516</td>\n",
       "      <td>30.653601</td>\n",
       "      <td>24.247000</td>\n",
       "      <td>8.64310</td>\n",
       "      <td>19.961901</td>\n",
       "      <td>7.27575</td>\n",
       "      <td>11.45980</td>\n",
       "      <td>18.574100</td>\n",
       "      <td>23.156401</td>\n",
       "      <td>22.641199</td>\n",
       "      <td>19.3367</td>\n",
       "      <td>2.54492</td>\n",
       "      <td>18.998600</td>\n",
       "      <td>-4520.0</td>\n",
       "      <td>817.705994</td>\n",
       "      <td>388.829987</td>\n",
       "      <td>A</td>\n",
       "    </tr>\n",
       "    <tr>\n",
       "      <th>4</th>\n",
       "      <td>1</td>\n",
       "      <td>CA</td>\n",
       "      <td>0.027344</td>\n",
       "      <td>1</td>\n",
       "      <td>7.28321</td>\n",
       "      <td>25.942600</td>\n",
       "      <td>0.113564</td>\n",
       "      <td>5.748000</td>\n",
       "      <td>19.833599</td>\n",
       "      <td>28.753599</td>\n",
       "      <td>20.572100</td>\n",
       "      <td>-1.953470</td>\n",
       "      <td>31.722601</td>\n",
       "      <td>25.155500</td>\n",
       "      <td>12.50030</td>\n",
       "      <td>18.746901</td>\n",
       "      <td>7.30976</td>\n",
       "      <td>8.00805</td>\n",
       "      <td>6.555440</td>\n",
       "      <td>22.754700</td>\n",
       "      <td>22.670300</td>\n",
       "      <td>20.2932</td>\n",
       "      <td>1.69962</td>\n",
       "      <td>22.812799</td>\n",
       "      <td>-4520.0</td>\n",
       "      <td>817.705994</td>\n",
       "      <td>388.829987</td>\n",
       "      <td>A</td>\n",
       "    </tr>\n",
       "  </tbody>\n",
       "</table>\n",
       "</div>"
      ],
      "text/plain": [
       "   crew experiment      time  seat  ...       ecg           r         gsr  event\n",
       "0     1         CA  0.011719     1  ...   -4520.0  817.705994  388.829987      A\n",
       "1     1         CA  0.015625     1  ...   -4520.0  817.705994  388.829987      A\n",
       "2     1         CA  0.019531     1  ...   -4520.0  817.705994  388.829987      A\n",
       "3     1         CA  0.023438     1  ...   -4520.0  817.705994  388.829987      A\n",
       "4     1         CA  0.027344     1  ...   -4520.0  817.705994  388.829987      A\n",
       "\n",
       "[5 rows x 28 columns]"
      ]
     },
     "execution_count": 2,
     "metadata": {},
     "output_type": "execute_result"
    }
   ],
   "source": [
    "df_train = pd.read_csv(\"../input/train.csv\")\n",
    "df_train.head()"
   ]
  },
  {
   "cell_type": "code",
   "execution_count": 3,
   "metadata": {
    "_uuid": "66b235d1ade3253e2ac01feb49acef9b096ebde9"
   },
   "outputs": [
    {
     "data": {
      "text/plain": [
       "(4867421, 28)"
      ]
     },
     "execution_count": 3,
     "metadata": {},
     "output_type": "execute_result"
    }
   ],
   "source": [
    "df_train.shape"
   ]
  },
  {
   "cell_type": "code",
   "execution_count": 4,
   "metadata": {
    "_uuid": "3458a5ec0d15d95e75e1eb3a4a1ade99d0a9a5fe"
   },
   "outputs": [
    {
     "name": "stdout",
     "output_type": "stream",
     "text": [
      "<class 'pandas.core.frame.DataFrame'>\n",
      "RangeIndex: 4867421 entries, 0 to 4867420\n",
      "Data columns (total 28 columns):\n",
      "crew          int64\n",
      "experiment    object\n",
      "time          float64\n",
      "seat          int64\n",
      "eeg_fp1       float64\n",
      "eeg_f7        float64\n",
      "eeg_f8        float64\n",
      "eeg_t4        float64\n",
      "eeg_t6        float64\n",
      "eeg_t5        float64\n",
      "eeg_t3        float64\n",
      "eeg_fp2       float64\n",
      "eeg_o1        float64\n",
      "eeg_p3        float64\n",
      "eeg_pz        float64\n",
      "eeg_f3        float64\n",
      "eeg_fz        float64\n",
      "eeg_f4        float64\n",
      "eeg_c4        float64\n",
      "eeg_p4        float64\n",
      "eeg_poz       float64\n",
      "eeg_c3        float64\n",
      "eeg_cz        float64\n",
      "eeg_o2        float64\n",
      "ecg           float64\n",
      "r             float64\n",
      "gsr           float64\n",
      "event         object\n",
      "dtypes: float64(24), int64(2), object(2)\n",
      "memory usage: 1.0+ GB\n"
     ]
    }
   ],
   "source": [
    "df_train.info()"
   ]
  },
  {
   "cell_type": "code",
   "execution_count": 5,
   "metadata": {
    "_uuid": "d43aaa18012c968cda9467962923997898a87467"
   },
   "outputs": [
    {
     "data": {
      "text/html": [
       "<div>\n",
       "<style scoped>\n",
       "    .dataframe tbody tr th:only-of-type {\n",
       "        vertical-align: middle;\n",
       "    }\n",
       "\n",
       "    .dataframe tbody tr th {\n",
       "        vertical-align: top;\n",
       "    }\n",
       "\n",
       "    .dataframe thead th {\n",
       "        text-align: right;\n",
       "    }\n",
       "</style>\n",
       "<table border=\"1\" class=\"dataframe\">\n",
       "  <thead>\n",
       "    <tr style=\"text-align: right;\">\n",
       "      <th></th>\n",
       "      <th>id</th>\n",
       "      <th>crew</th>\n",
       "      <th>experiment</th>\n",
       "      <th>time</th>\n",
       "      <th>seat</th>\n",
       "      <th>eeg_fp1</th>\n",
       "      <th>eeg_f7</th>\n",
       "      <th>eeg_f8</th>\n",
       "      <th>eeg_t4</th>\n",
       "      <th>eeg_t6</th>\n",
       "      <th>eeg_t5</th>\n",
       "      <th>eeg_t3</th>\n",
       "      <th>eeg_fp2</th>\n",
       "      <th>eeg_o1</th>\n",
       "      <th>eeg_p3</th>\n",
       "      <th>eeg_pz</th>\n",
       "      <th>eeg_f3</th>\n",
       "      <th>eeg_fz</th>\n",
       "      <th>eeg_f4</th>\n",
       "      <th>eeg_c4</th>\n",
       "      <th>eeg_p4</th>\n",
       "      <th>eeg_poz</th>\n",
       "      <th>eeg_c3</th>\n",
       "      <th>eeg_cz</th>\n",
       "      <th>eeg_o2</th>\n",
       "      <th>ecg</th>\n",
       "      <th>r</th>\n",
       "      <th>gsr</th>\n",
       "    </tr>\n",
       "  </thead>\n",
       "  <tbody>\n",
       "    <tr>\n",
       "      <th>0</th>\n",
       "      <td>0</td>\n",
       "      <td>1</td>\n",
       "      <td>LOFT</td>\n",
       "      <td>0.000000</td>\n",
       "      <td>0</td>\n",
       "      <td>17.899500</td>\n",
       "      <td>6.127830</td>\n",
       "      <td>0.994807</td>\n",
       "      <td>-28.206200</td>\n",
       "      <td>-47.695499</td>\n",
       "      <td>-187.080002</td>\n",
       "      <td>-33.183498</td>\n",
       "      <td>-4.220780</td>\n",
       "      <td>8.178160</td>\n",
       "      <td>33.160301</td>\n",
       "      <td>33.812500</td>\n",
       "      <td>21.744699</td>\n",
       "      <td>16.293800</td>\n",
       "      <td>-7.044480</td>\n",
       "      <td>-14.405100</td>\n",
       "      <td>-4.03384</td>\n",
       "      <td>-0.393799</td>\n",
       "      <td>31.83810</td>\n",
       "      <td>17.075600</td>\n",
       "      <td>-8.137350</td>\n",
       "      <td>-7323.120117</td>\n",
       "      <td>643.177002</td>\n",
       "      <td>594.778992</td>\n",
       "    </tr>\n",
       "    <tr>\n",
       "      <th>1</th>\n",
       "      <td>1</td>\n",
       "      <td>1</td>\n",
       "      <td>LOFT</td>\n",
       "      <td>0.000000</td>\n",
       "      <td>1</td>\n",
       "      <td>45.883202</td>\n",
       "      <td>94.749001</td>\n",
       "      <td>23.290800</td>\n",
       "      <td>1.392000</td>\n",
       "      <td>2.060940</td>\n",
       "      <td>-5.145290</td>\n",
       "      <td>6.395940</td>\n",
       "      <td>33.420101</td>\n",
       "      <td>-295.013000</td>\n",
       "      <td>8.373170</td>\n",
       "      <td>29.636400</td>\n",
       "      <td>16.223000</td>\n",
       "      <td>850.288025</td>\n",
       "      <td>19.887501</td>\n",
       "      <td>-215.179001</td>\n",
       "      <td>2.11832</td>\n",
       "      <td>7.340940</td>\n",
       "      <td>9.66785</td>\n",
       "      <td>1169.239990</td>\n",
       "      <td>-0.024414</td>\n",
       "      <td>-3335.080078</td>\n",
       "      <td>826.724976</td>\n",
       "      <td>136.235001</td>\n",
       "    </tr>\n",
       "    <tr>\n",
       "      <th>2</th>\n",
       "      <td>2</td>\n",
       "      <td>1</td>\n",
       "      <td>LOFT</td>\n",
       "      <td>0.003906</td>\n",
       "      <td>0</td>\n",
       "      <td>33.120098</td>\n",
       "      <td>28.356501</td>\n",
       "      <td>-7.239220</td>\n",
       "      <td>-7.690860</td>\n",
       "      <td>-25.833799</td>\n",
       "      <td>-107.236000</td>\n",
       "      <td>12.845200</td>\n",
       "      <td>1.215280</td>\n",
       "      <td>13.317000</td>\n",
       "      <td>44.435101</td>\n",
       "      <td>37.585800</td>\n",
       "      <td>29.073000</td>\n",
       "      <td>22.316099</td>\n",
       "      <td>-7.642560</td>\n",
       "      <td>-10.363600</td>\n",
       "      <td>10.95050</td>\n",
       "      <td>6.513360</td>\n",
       "      <td>36.01860</td>\n",
       "      <td>24.356600</td>\n",
       "      <td>0.956158</td>\n",
       "      <td>-7323.120117</td>\n",
       "      <td>643.177002</td>\n",
       "      <td>594.778992</td>\n",
       "    </tr>\n",
       "    <tr>\n",
       "      <th>3</th>\n",
       "      <td>3</td>\n",
       "      <td>1</td>\n",
       "      <td>LOFT</td>\n",
       "      <td>0.003906</td>\n",
       "      <td>1</td>\n",
       "      <td>43.280102</td>\n",
       "      <td>95.887001</td>\n",
       "      <td>18.702299</td>\n",
       "      <td>-1.432890</td>\n",
       "      <td>-4.232600</td>\n",
       "      <td>-8.021180</td>\n",
       "      <td>7.427430</td>\n",
       "      <td>27.345699</td>\n",
       "      <td>-310.165009</td>\n",
       "      <td>5.389070</td>\n",
       "      <td>27.733999</td>\n",
       "      <td>7.217500</td>\n",
       "      <td>816.679016</td>\n",
       "      <td>13.826600</td>\n",
       "      <td>-214.223007</td>\n",
       "      <td>-4.91354</td>\n",
       "      <td>3.504520</td>\n",
       "      <td>3.87811</td>\n",
       "      <td>1159.400024</td>\n",
       "      <td>-0.047607</td>\n",
       "      <td>-3335.080078</td>\n",
       "      <td>826.724976</td>\n",
       "      <td>136.235001</td>\n",
       "    </tr>\n",
       "    <tr>\n",
       "      <th>4</th>\n",
       "      <td>4</td>\n",
       "      <td>1</td>\n",
       "      <td>LOFT</td>\n",
       "      <td>0.007812</td>\n",
       "      <td>0</td>\n",
       "      <td>7.929110</td>\n",
       "      <td>3.460380</td>\n",
       "      <td>-10.860800</td>\n",
       "      <td>-26.366699</td>\n",
       "      <td>-25.894699</td>\n",
       "      <td>37.007900</td>\n",
       "      <td>-50.334202</td>\n",
       "      <td>-11.676400</td>\n",
       "      <td>-1.143860</td>\n",
       "      <td>-17.600500</td>\n",
       "      <td>34.075600</td>\n",
       "      <td>22.912399</td>\n",
       "      <td>19.033800</td>\n",
       "      <td>2.045450</td>\n",
       "      <td>-20.788799</td>\n",
       "      <td>-3.61418</td>\n",
       "      <td>-7.539830</td>\n",
       "      <td>3.08397</td>\n",
       "      <td>13.647900</td>\n",
       "      <td>1.473720</td>\n",
       "      <td>-7323.120117</td>\n",
       "      <td>643.177002</td>\n",
       "      <td>594.778992</td>\n",
       "    </tr>\n",
       "  </tbody>\n",
       "</table>\n",
       "</div>"
      ],
      "text/plain": [
       "   id  crew experiment     ...              ecg           r         gsr\n",
       "0   0     1       LOFT     ...     -7323.120117  643.177002  594.778992\n",
       "1   1     1       LOFT     ...     -3335.080078  826.724976  136.235001\n",
       "2   2     1       LOFT     ...     -7323.120117  643.177002  594.778992\n",
       "3   3     1       LOFT     ...     -3335.080078  826.724976  136.235001\n",
       "4   4     1       LOFT     ...     -7323.120117  643.177002  594.778992\n",
       "\n",
       "[5 rows x 28 columns]"
      ]
     },
     "execution_count": 5,
     "metadata": {},
     "output_type": "execute_result"
    }
   ],
   "source": [
    "#Use only a small subset of the Test set.\n",
    "df_test = pd.read_csv(\"../input/test.csv\", nrows=10000)\n",
    "df_test.head()"
   ]
  },
  {
   "cell_type": "code",
   "execution_count": 6,
   "metadata": {
    "_uuid": "74dac8beb90f528cc1fc7d2d6f2f6fb4739af0d8"
   },
   "outputs": [
    {
     "data": {
      "text/plain": [
       "(10000, 28)"
      ]
     },
     "execution_count": 6,
     "metadata": {},
     "output_type": "execute_result"
    }
   ],
   "source": [
    "df_test.shape"
   ]
  },
  {
   "cell_type": "code",
   "execution_count": 7,
   "metadata": {
    "_uuid": "9aa569a7f15ce8a30d5949707cfb32fe8a1de6c6"
   },
   "outputs": [
    {
     "data": {
      "text/plain": [
       "<matplotlib.axes._subplots.AxesSubplot at 0x7fbd824456a0>"
      ]
     },
     "execution_count": 7,
     "metadata": {},
     "output_type": "execute_result"
    },
    {
     "data": {
      "image/png": "[encoded data removed]",
      "text/plain": [
       "<Figure size 432x288 with 1 Axes>"
      ]
     },
     "metadata": {},
     "output_type": "display_data"
    }
   ],
   "source": [
    "sns.countplot(x='event', data=df_train)"
   ]
  },
  {
   "cell_type": "code",
   "execution_count": 8,
   "metadata": {
    "_uuid": "08fe667929ae5147124527dc009d00f1c336df53"
   },
   "outputs": [
    {
     "name": "stdout",
     "output_type": "stream",
     "text": [
      "['CA' 'DA' 'SS']\n",
      "['LOFT']\n"
     ]
    }
   ],
   "source": [
    "print(df_train['experiment'].unique())\n",
    "print(df_test['experiment'].unique())"
   ]
  },
  {
   "cell_type": "code",
   "execution_count": 9,
   "metadata": {
    "_uuid": "ce0a821cae140b7d7d6ed777ef2d197e2a5c6e99"
   },
   "outputs": [],
   "source": [
    "dic = {'CA': 0, 'DA': 1, 'SS': 2, 'LOFT': 3}\n",
    "df_train[\"experiment\"] = df_train[\"experiment\"].apply(lambda x: dic[x])\n",
    "df_test[\"experiment\"] = df_test[\"experiment\"].apply(lambda x: dic[x])"
   ]
  },
  {
   "cell_type": "code",
   "execution_count": 10,
   "metadata": {
    "_uuid": "7917384dd063e4d3187ca988f4f55379f4e1e9ac"
   },
   "outputs": [],
   "source": [
    "dic = {'A': 0, 'B': 1, 'C': 2, 'D': 3}\n",
    "df_train[\"event\"] = df_train[\"event\"].apply(lambda x: dic[x])"
   ]
  },
  {
   "cell_type": "code",
   "execution_count": 11,
   "metadata": {
    "_uuid": "306c02eb8816b5e92962012235c41f15d011c65b"
   },
   "outputs": [],
   "source": [
    "X = df_train.drop(columns=['event'], axis = 1)\n",
    "Y = df_train['event']"
   ]
  },
  {
   "cell_type": "code",
   "execution_count": 12,
   "metadata": {
    "_uuid": "d1f22f7bf4955f66e339df62606e56af7646c0a4"
   },
   "outputs": [
    {
     "data": {
      "text/plain": [
       "(4867421, 27)"
      ]
     },
     "execution_count": 12,
     "metadata": {},
     "output_type": "execute_result"
    }
   ],
   "source": [
    "X.shape"
   ]
  },
  {
   "cell_type": "code",
   "execution_count": 13,
   "metadata": {
    "_uuid": "0e925130f9ab0882faaa22621b620295762e14b9"
   },
   "outputs": [
    {
     "name": "stderr",
     "output_type": "stream",
     "text": [
      "/opt/conda/lib/python3.6/site-packages/sklearn/preprocessing/data.py:645: DataConversionWarning: Data with input dtype int64, float64 were all converted to float64 by StandardScaler.\n",
      "  return self.partial_fit(X, y)\n",
      "/opt/conda/lib/python3.6/site-packages/sklearn/base.py:464: DataConversionWarning: Data with input dtype int64, float64 were all converted to float64 by StandardScaler.\n",
      "  return self.fit(X, **fit_params).transform(X)\n"
     ]
    }
   ],
   "source": [
    "scaler = StandardScaler()\n",
    "X_scaled = scaler.fit_transform(X)"
   ]
  },
  {
   "cell_type": "code",
   "execution_count": 14,
   "metadata": {
    "_uuid": "bce56b16d1bf0d3963618344a0cde7ae0ed14de3"
   },
   "outputs": [],
   "source": [
    "X_train, X_valid, y_train, y_valid = train_test_split(X_scaled, Y, test_size=0.2, random_state=42)"
   ]
  },
  {
   "cell_type": "code",
   "execution_count": 15,
   "metadata": {
    "_uuid": "146f21afef55ca4d1a1bc0929b7ef5661485bf37"
   },
   "outputs": [],
   "source": [
    "def to_categorical(y, num_classes):\n",
    "    \"\"\"1-hot encodes a tensor\"\"\"\n",
    "    return np.eye(num_classes, dtype='uint8')[y]"
   ]
  },
  {
   "cell_type": "code",
   "execution_count": 16,
   "metadata": {
    "_uuid": "05ac884b029882c6ddb584757ab832b779b6ec91"
   },
   "outputs": [],
   "source": [
    "y_train = to_categorical(y_train, 4)\n",
    "y_valid = to_categorical(y_valid, 4)"
   ]
  },
  {
   "cell_type": "code",
   "execution_count": 17,
   "metadata": {
    "_uuid": "7fb20a886888fb2c6e76e1951c84acfa456e2717"
   },
   "outputs": [
    {
     "data": {
      "text/plain": [
       "(3893936, 4)"
      ]
     },
     "execution_count": 17,
     "metadata": {},
     "output_type": "execute_result"
    }
   ],
   "source": [
    "y_train.shape"
   ]
  },
  {
   "cell_type": "code",
   "execution_count": 18,
   "metadata": {
    "_uuid": "4c2888a20ee3ab86e460a8639333e9e8e8ed49e2"
   },
   "outputs": [],
   "source": [
    "featuresTrain = torch.from_numpy(X_train).float()\n",
    "targetsTrain = torch.from_numpy(y_train).type(torch.LongTensor) # data type is long"
   ]
  },
  {
   "cell_type": "code",
   "execution_count": 19,
   "metadata": {
    "_uuid": "5768261b42162358cc37f45272a9b84c8945b645"
   },
   "outputs": [],
   "source": [
    "featuresValid = torch.from_numpy(X_valid).float()\n",
    "targetsValid = torch.from_numpy(y_valid).type(torch.LongTensor) # data type is long"
   ]
  },
  {
   "cell_type": "code",
   "execution_count": 20,
   "metadata": {
    "_uuid": "5e006cd3866345d24ad5b88bfcf01630dc15158f"
   },
   "outputs": [
    {
     "data": {
      "text/plain": [
       "(10000, 27)"
      ]
     },
     "execution_count": 20,
     "metadata": {},
     "output_type": "execute_result"
    }
   ],
   "source": [
    "X_test = df_test.drop(['id'], axis = 1)\n",
    "X_test.shape"
   ]
  },
  {
   "cell_type": "code",
   "execution_count": 21,
   "metadata": {
    "_uuid": "36418793c55e0d5e7c10a48b961a1bf8c3f11e8e"
   },
   "outputs": [
    {
     "name": "stderr",
     "output_type": "stream",
     "text": [
      "/opt/conda/lib/python3.6/site-packages/ipykernel_launcher.py:1: DataConversionWarning: Data with input dtype int64, float64 were all converted to float64 by StandardScaler.\n",
      "  \"\"\"Entry point for launching an IPython kernel.\n"
     ]
    }
   ],
   "source": [
    "X_test_scaled = scaler.transform(X_test)"
   ]
  },
  {
   "cell_type": "code",
   "execution_count": 22,
   "metadata": {
    "_uuid": "4f2aa8a0e9b870f721e480c170e24f76b5b8a841"
   },
   "outputs": [],
   "source": [
    "featuresTest = torch.from_numpy(X_test_scaled).float()"
   ]
  },
  {
   "cell_type": "code",
   "execution_count": 23,
   "metadata": {
    "_uuid": "d87315e6da55dff5ae450d5db1f66d6fcc3cbc32"
   },
   "outputs": [],
   "source": [
    "batch_size = 512\n",
    "num_epochs = 100\n",
    "# Pytorch train and test sets\n",
    "train = torch.utils.data.TensorDataset(featuresTrain,targetsTrain)\n",
    "valid = torch.utils.data.TensorDataset(featuresValid,targetsValid)\n",
    "\n",
    "train_loader = DataLoader(train, batch_size = batch_size, shuffle = True)\n",
    "valid_loader = DataLoader(valid, batch_size = batch_size, shuffle = True)"
   ]
  },
  {
   "cell_type": "code",
   "execution_count": 24,
   "metadata": {
    "_uuid": "8bc51c2132df8249259b8693c3f34cecc779439b"
   },
   "outputs": [],
   "source": [
    "class NeuralNetwork(nn.Module):\n",
    "    def __init__(self, n_features, n_neurons, dropouts):\n",
    "        super().__init__()\n",
    "        self.layer1 = nn.Linear(in_features=n_features, out_features=n_neurons[0])\n",
    "        self.dropout1 = nn.Dropout(dropouts[0])\n",
    "        self.layer2 = nn.Linear(in_features=n_neurons[0], out_features=n_neurons[1])\n",
    "        self.dropout2 = nn.Dropout(dropouts[1])\n",
    "        self.out_layer = nn.Linear(in_features=n_neurons[1], out_features=4)\n",
    "     \n",
    "    def forward(self, X):\n",
    "        out = F.relu(self.layer1(X))\n",
    "        out = self.dropout1(out)\n",
    "        out = F.relu(self.layer2(out))\n",
    "        out = self.dropout2(out)\n",
    "        out = self.out_layer(out)\n",
    "        return F.log_softmax(out, dim=1)\n",
    "        "
   ]
  },
  {
   "cell_type": "code",
   "execution_count": 25,
   "metadata": {
    "_uuid": "8f9f0793c64f5c5c88bd67c300d8e85247b81ca8"
   },
   "outputs": [],
   "source": [
    "device = torch.device(\"cuda:0\" if torch.cuda.is_available() else \"cpu\")\n",
    "n_features = 27\n",
    "n_neurons = [100, 50]\n",
    "dropouts = [0.3, 0.2]\n",
    "model = NeuralNetwork(n_features, n_neurons, dropouts)\n",
    "model = model.to(device)\n",
    "# Cross Entropy Loss \n",
    "error = nn.NLLLoss()\n",
    "# Adam Optimizer\n",
    "learning_rate = 0.01\n",
    "optimizer = torch.optim.Adam(model.parameters(), lr=learning_rate)"
   ]
  },
  {
   "cell_type": "code",
   "execution_count": 26,
   "metadata": {
    "_uuid": "772619310ce4edd04f05986d837b35a7d3a0a857"
   },
   "outputs": [
    {
     "name": "stdout",
     "output_type": "stream",
     "text": [
      "Epoch: 1 \tTraining Loss: 0.204602 \tValidation Loss: 0.161350 \tTime: 44.16\n",
      "Epoch: 2 \tTraining Loss: 0.173000 \tValidation Loss: 0.144081 \tTime: 43.09\n",
      "Epoch: 3 \tTraining Loss: 0.164323 \tValidation Loss: 0.141127 \tTime: 43.59\n",
      "Epoch: 4 \tTraining Loss: 0.161344 \tValidation Loss: 0.135288 \tTime: 44.57\n",
      "Epoch: 5 \tTraining Loss: 0.156200 \tValidation Loss: 0.141451 \tTime: 42.61\n"
     ]
    }
   ],
   "source": [
    "# train_losses = []\n",
    "# train_acc = []\n",
    "# valid_losses = []\n",
    "# valid_acc = []\n",
    "num_epochs = 5\n",
    "for e in range(num_epochs):\n",
    "    start_time = time.time()\n",
    "    # keep track of training and validation loss\n",
    "    train_loss = 0.0\n",
    "    valid_loss = 0.0\n",
    "    \n",
    "    model.train()\n",
    "    for i, (features, labels) in enumerate(train_loader):\n",
    "        #print(labels)\n",
    "        features, labels = features.to(device), labels.to(device)\n",
    "        optimizer.zero_grad()\n",
    "        outputs = model(features)\n",
    "        loss = error(outputs, torch.max(labels, 1)[1])\n",
    "        #loss = error(outputs, labels)\n",
    "        loss.backward()\n",
    "        optimizer.step()\n",
    "        # update training loss\n",
    "        train_loss += loss.item()*features.size(0)\n",
    "        \n",
    "        #TODO: Calculate the accuracy on the train test\n",
    "        #acc = torch.eq(outputs.round(), labels).float().mean() # accuracy\n",
    "        #_, predicted = torch.max(outputs.data, 1)\n",
    "        #_, actual = torch.max(labels, 1)\n",
    "        #total = len(labels)\n",
    "        #correct = (predicted == actual).sum()\n",
    "        #train_accuracy = 100 * correct / total\n",
    "        #train_losses.append(train_loss.item())\n",
    "        #train_acc.append(train_accuracy.item())\n",
    "        \n",
    "    model.eval()\n",
    "    for i, (features, labels) in enumerate(valid_loader):\n",
    "        features, labels = features.to(device), labels.to(device)\n",
    "        optimizer.zero_grad()\n",
    "        outputs = model(features)\n",
    "        loss = error(outputs, torch.max(labels, 1)[1])\n",
    "        #loss = error(outputs, labels)\n",
    "        valid_loss += loss.item()*features.size(0)\n",
    "        \n",
    "        #_, predicted = torch.max(outputs.data, 1)\n",
    "        #_, actual = torch.max(labels, 1)\n",
    "        #total = len(labels)\n",
    "        #correct = (predicted == actual).sum()\n",
    "        #accuracy = 100 * correct / total\n",
    "        #valid_losses.append(loss.item())\n",
    "        #valid_acc.append(accuracy.item())\n",
    "    \n",
    "    \n",
    "    # calculate average losses\n",
    "    train_loss = train_loss/len(train_loader.dataset)\n",
    "    valid_loss = valid_loss/len(valid_loader.dataset)\n",
    "    elapsed_time = time.time() - start_time\n",
    "    # print training/validation statistics \n",
    "    print('Epoch: {} \\tTraining Loss: {:.6f} \\tValidation Loss: {:.6f} \\tTime: {:.2f}'.format(\n",
    "        e+1, train_loss, valid_loss, elapsed_time))    \n",
    "    \n",
    "#     if e % 1 == 0:\n",
    "#         print(\"[{}/{}], Train Loss: {} Train Acc: {}, Validation Loss : {}, Validation Acc: {} \".format(e+1,\n",
    "#         num_epochs, np.round(train_loss.item(), 3), np.round(train_accuracy.item(), 3), \n",
    "#         np.round(loss.item(), 3), np.round(accuracy.item(), 3)))"
   ]
  },
  {
   "cell_type": "code",
   "execution_count": 27,
   "metadata": {
    "_uuid": "74d711ce7a082bc2a0edd923b185c1d7fb78e3e7"
   },
   "outputs": [],
   "source": [
    "test = torch.utils.data.TensorDataset(featuresTest)\n",
    "test_loader = DataLoader(test, batch_size = batch_size, shuffle = False)\n",
    "test_preds = np.zeros((len(test), 4))\n",
    "\n",
    "for i, (x_batch,) in enumerate(test_loader):\n",
    "    x_batch = x_batch.to(device)\n",
    "    y_pred = model(x_batch).detach()\n",
    "    test_preds[i * batch_size:(i+1) * batch_size, :] = y_pred.cpu().numpy()"
   ]
  },
  {
   "cell_type": "code",
   "execution_count": 28,
   "metadata": {
    "_uuid": "4197a74629d5c224f7febf1e62ab3b971c6e46de"
   },
   "outputs": [
    {
     "data": {
      "text/plain": [
       "(10000, 4)"
      ]
     },
     "execution_count": 28,
     "metadata": {},
     "output_type": "execute_result"
    }
   ],
   "source": [
    "test_preds.shape"
   ]
  },
  {
   "cell_type": "code",
   "execution_count": 29,
   "metadata": {
    "_uuid": "c03ca5913234b186fd0bc2b764ebd9fa339d5115"
   },
   "outputs": [
    {
     "data": {
      "text/plain": [
       "array([[    0.        ,  -128.58291626, -1390.7175293 ,  -174.84936523],\n",
       "       [    0.        ,   -37.63380814,  -124.42996216,   -53.15888977],\n",
       "       [    0.        ,  -135.35681152, -1393.0715332 ,  -174.17381287],\n",
       "       [    0.        ,   -37.0456543 ,  -122.53819275,   -52.34250641],\n",
       "       [    0.        ,  -139.08337402, -1338.77624512,  -171.26495361],\n",
       "       [    0.        ,   -36.44495392,  -120.6060791 ,   -51.50871658],\n",
       "       [    0.        ,  -129.30172729, -1334.1940918 ,  -174.09060669],\n",
       "       [    0.        ,   -37.34476471,  -123.50026703,   -52.7576828 ],\n",
       "       [    0.        ,  -143.90472412, -1429.71655273,  -183.54248047],\n",
       "       [    0.        ,   -37.39890289,  -123.67440033,   -52.83283234]])"
      ]
     },
     "execution_count": 29,
     "metadata": {},
     "output_type": "execute_result"
    }
   ],
   "source": [
    "test_preds[100:110, :]"
   ]
  },
  {
   "cell_type": "code",
   "execution_count": null,
   "metadata": {
    "_uuid": "abad734a2fe7e65729225d82c1b200970d7c64e1"
   },
   "outputs": [],
   "source": [
    "submission = pd.DataFrame({'id':df_test['id'],'A':test_preds[:, 0], 'B':test_preds[:, 1],\n",
    "                          'C':test_preds[:, 2], 'D':test_preds[:, 3]})\n",
    "submission.head()"
   ]
  },
  {
   "cell_type": "code",
   "execution_count": null,
   "metadata": {
    "_uuid": "3a63de870716c1b3e7697331326d26b4decc9f90"
   },
   "outputs": [],
   "source": []
  }
 ],
 "metadata": {
  "kernelspec": {
   "display_name": "Python 3",
   "language": "python",
   "name": "python3"
  },
  "language_info": {
   "codemirror_mode": {
    "name": "ipython",
    "version": 3
   },
   "file_extension": ".py",
   "mimetype": "text/x-python",
   "name": "python",
   "nbconvert_exporter": "python",
   "pygments_lexer": "ipython3",
   "version": "3.7.1"
  }
 },
 "nbformat": 4,
 "nbformat_minor": 1
}
